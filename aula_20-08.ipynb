{
 "cells": [
  {
   "cell_type": "code",
   "execution_count": 12,
   "metadata": {},
   "outputs": [],
   "source": [
    "#!pip install matplotlib\n",
    "import pandas as pd"
   ]
  },
  {
   "cell_type": "code",
   "execution_count": null,
   "metadata": {},
   "outputs": [],
   "source": [
    "print(' Valores | Juiz A | Juiz B ')\n",
    "print('---------------------------------')\n",
    "print"
   ]
  },
  {
   "cell_type": "code",
   "execution_count": null,
   "metadata": {},
   "outputs": [],
   "source": [
    "import matplotlib.pyplot as plt\n",
    "\n",
    "df = pd.DataFrame({\n",
    "    \"Homens\": [4,2,7,3,1,4,2,4,8,1],\n",
    "    \"Mulheres\": [5,4,6,5,4,2,6,6,4,3]\n",
    "})\n",
    "\n",
    "boxplot = df.boxplot(column=[\"Homens\",\"Mulheres\"], showmeans=True)\n",
    "plt.show()"
   ]
  },
  {
   "cell_type": "code",
   "execution_count": 13,
   "metadata": {},
   "outputs": [],
   "source": [
    "notas = pd.DataFrame({\n",
    "    \"A1\":[9.8,7.2,8.0],\n",
    "    \"A2\":[5.3,4.0,3.5],\n",
    "    \"A3\":[5.5,8.1,7,2],\n",
    "    \"A4\":[7.0,7.5,9.2],\n",
    "    index=['p1','p2','p3']\n",
    "})\n",
    "\n",
    "print('Notas Finais: ')\n",
    "print('----------------')\n",
    "print(notas)\n",
    "\n",
    "print('\\nMedia de Cada Aluno')\n",
    "print('----------------')\n",
    "print(notas.mean())\n",
    "\n",
    "print('\\nMaior noota de cada aluno')\n",
    "print('----------------')\n",
    "print(notas.max())\n",
    "\n",
    "print('\\nMedia de cada prova:')\n",
    "print('----------------')\n",
    "print(notas.mean(axis=1))\n",
    "\n",
    "\n",
    "print('\\nMaior de cada prova:')\n",
    "print('----------------')\n",
    "print(notas.max(axis=1))\n",
    "\n"
   ]
  },
  {
   "cell_type": "code",
   "execution_count": 17,
   "metadata": {},
   "outputs": [
    {
     "name": "stdout",
     "output_type": "stream",
     "text": [
      "\n",
      "Prova 50m Natação\n",
      "           nadador   nacionalidade  tempo\n",
      "6    Roger Federer           Suíça   6.12\n",
      "4       Usain Bolt         Jamaica   9.58\n",
      "7     Lionel Messi       Argentina  10.88\n",
      "3    Katie Ledecky  Estados Unidos  15.67\n",
      "2   Michael Phelps  Estados Unidos  19.32\n",
      "1      Simon Biles  Estados Unidos  22.08\n",
      "5  Serena Williams  Estados Unidos  23.00\n",
      "\n",
      "Resultado por Raia\n",
      "           nadador   nacionalidade  tempo\n",
      "0    Roger Federer           Suíça   6.12\n",
      "1       Usain Bolt         Jamaica   9.58\n",
      "2     Lionel Messi       Argentina  10.88\n",
      "3    Katie Ledecky  Estados Unidos  15.67\n",
      "4   Michael Phelps  Estados Unidos  19.32\n",
      "5      Simon Biles  Estados Unidos  22.08\n",
      "6  Serena Williams  Estados Unidos  23.00\n"
     ]
    }
   ],
   "source": [
    "dados = {\"nadador\": [\n",
    "    \"Simon Biles\",\n",
    "    \"Michael Phelps\",\n",
    "    \"Katie Ledecky\",\n",
    "    \"Usain Bolt\",\n",
    "    \"Serena Williams\",\n",
    "    \"Roger Federer\",\n",
    "    \"Lionel Messi\",\n",
    "],\n",
    "         \"nacionalidade\": [\n",
    "            \"Estados Unidos\",\n",
    "            \"Estados Unidos\",\n",
    "            \"Estados Unidos\",\n",
    "            \"Jamaica\",\n",
    "            \"Estados Unidos\",\n",
    "            \"Suíça\",\n",
    "            \"Argentina\",\n",
    "         ],\n",
    "         \"tempo\": [\n",
    "            22.08,\n",
    "            19.32,\n",
    "            15.67,\n",
    "            9.58,\n",
    "            23.00,\n",
    "            6.12,\n",
    "            10.88,\n",
    "         ]}\n",
    "\n",
    "raias = list(range(1, len(dados[\"nadador\"]) + 1))\n",
    "prova50m = pd.DataFrame(dados, index=raias)\n",
    "prova50m = prova50m.sort_values(by='tempo', ascending=True)\n",
    "print('\\nProva 50m Natação')\n",
    "print(prova50m)\n",
    "\n",
    "resultado_por_raia = prova50m.reset_index(drop=True)\n",
    "print('\\nResultado por Raia')\n",
    "print(resultado_por_raia)"
   ]
  }
 ],
 "metadata": {
  "kernelspec": {
   "display_name": "Python 3",
   "language": "python",
   "name": "python3"
  },
  "language_info": {
   "codemirror_mode": {
    "name": "ipython",
    "version": 3
   },
   "file_extension": ".py",
   "mimetype": "text/x-python",
   "name": "python",
   "nbconvert_exporter": "python",
   "pygments_lexer": "ipython3",
   "version": "3.12.8"
  }
 },
 "nbformat": 4,
 "nbformat_minor": 2
}
