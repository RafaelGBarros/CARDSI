{
 "cells": [
  {
   "cell_type": "code",
   "execution_count": 1,
   "metadata": {},
   "outputs": [],
   "source": [
    "import pandas as pd"
   ]
  },
  {
   "cell_type": "code",
   "execution_count": 2,
   "metadata": {},
   "outputs": [],
   "source": [
    "#from google.collab import drive\n",
    "#drive.mount('/content/drive')\n",
    "flags = pd.read_csv('./dados/flags.csv')"
   ]
  },
  {
   "cell_type": "code",
   "execution_count": 3,
   "metadata": {},
   "outputs": [
    {
     "name": "stdout",
     "output_type": "stream",
     "text": [
      "Flag tails before dummies:\n",
      "              name  landmass  zone  area  population  language  religion  \\\n",
      "189  Western-Samoa         6     3     3           0         1         1   \n",
      "190     Yugoslavia         3     1   256          22         6         6   \n",
      "191          Zaire         4     2   905          28        10         5   \n",
      "192         Zambia         4     2   753           6        10         5   \n",
      "193       Zimbabwe         4     2   391           8        10         5   \n",
      "\n",
      "     bars  stripes  colours  ...  topleft_red  topleft_white  botright_black  \\\n",
      "189     0        0        3  ...        False          False           False   \n",
      "190     0        3        4  ...        False          False           False   \n",
      "191     0        0        4  ...        False          False           False   \n",
      "192     3        0        4  ...        False          False           False   \n",
      "193     0        7        5  ...        False          False           False   \n",
      "\n",
      "     botright_blue  botright_brown  botright_gold  botright_green  \\\n",
      "189          False           False          False           False   \n",
      "190          False           False          False           False   \n",
      "191          False           False          False            True   \n",
      "192          False            True          False           False   \n",
      "193          False           False          False            True   \n",
      "\n",
      "    botright_orange  botright_red  botright_white  \n",
      "189           False          True           False  \n",
      "190           False          True           False  \n",
      "191           False         False           False  \n",
      "192           False         False           False  \n",
      "193           False         False           False  \n",
      "\n",
      "[5 rows x 81 columns]\n"
     ]
    }
   ],
   "source": [
    "for c in flags.columns:\n",
    "    if c in ['landmass', 'zone', 'language', 'religion', 'mainhue', 'topleft', 'botright']:\n",
    "        dummies = pd.get_dummies(flags[c], prefix=c)\n",
    "        flags = flags.join(dummies)\n",
    "\n",
    "print('Flag tails before dummies:')\n",
    "print(flags.tail())"
   ]
  },
  {
   "cell_type": "code",
   "execution_count": 4,
   "metadata": {},
   "outputs": [],
   "source": [
    "#---------------------------------------------------------------------------------------------------------\n",
    "# (2) - Normalização dos atributos do Grupo 3 e 4\n",
    "# De: Números contínuos e discretos\n",
    "# Para: Números com valores na faixa entre 0 e 1\n",
    "#---------------------------------------------------------------------------------------------------------\n",
    "for c in flags.columns:\n",
    "    if c in ['area', 'population', 'bars', 'stripes', 'colours', 'circles', 'crosses', 'saltires', 'quarters', 'sunstars']:\n",
    "        c_max = max(flags[c])\n",
    "        c_min = min(flags[c])\n",
    "        flags[c] = (flags[c] - c_min) / (c_max - c_min)"
   ]
  },
  {
   "cell_type": "code",
   "execution_count": 5,
   "metadata": {},
   "outputs": [],
   "source": [
    "flags.to_csv('./dados/flags_tratado.csv', index=False)"
   ]
  },
  {
   "cell_type": "code",
   "execution_count": null,
   "metadata": {},
   "outputs": [],
   "source": []
  },
  {
   "cell_type": "code",
   "execution_count": null,
   "metadata": {},
   "outputs": [],
   "source": [
    "flags = read_csv('./dados/flags_tratado.csv')\n",
    "k = 3\n",
    "\n",
    "labels = ['red', 'green', 'blue', 'gold', 'white', 'black', 'orange']\n",
    "q = len(labels)\n",
    "\n",
    "N = flags.shape[0]\n",
    "\n",
    "# cria um classificador com algoritmo knn\n",
    "\n",
    "for j in range(q):\n",
    "    print('---------------------')\n",
    "    print('Processando o Rotulo :', labels[j])\n",
    "\n",
    "mc = pd.DataFrame({'predito_nao':[0,0],\n",
    "                  'predito_sim':[0,0]},\n",
    "                  index=['real_nao','real_sim'])\n",
    "\n",
    "x = flags.drop(columns=labels)\n",
    "y = flags[labels[j]]\n",
    "\n",
    "for i in range(N):\n",
    "    #Cria conjunto de treinamento\n",
    "    x_treino = x.drop(i)\n",
    "    y_treino = y.drop(i)\n",
    "\n",
    "    #Cria conjunto de teste\n",
    "    x_teste = x.iloc[[i],:]\n",
    "    y_teste = y.iloc[i]\n",
    "\n",
    "    modelo = KNeighborsClassifier(n_neighbors=k)\n",
    "    modelo.fit(x_treino, y_treino)\n",
    "\n",
    "#teste do modelo KNN com o objeto de teste\n",
    "pred = modelo.predict(x_teste)[0]\n"
   ]
  }
 ],
 "metadata": {
  "kernelspec": {
   "display_name": "Python 3",
   "language": "python",
   "name": "python3"
  },
  "language_info": {
   "codemirror_mode": {
    "name": "ipython",
    "version": 3
   },
   "file_extension": ".py",
   "mimetype": "text/x-python",
   "name": "python",
   "nbconvert_exporter": "python",
   "pygments_lexer": "ipython3",
   "version": "3.12.8"
  }
 },
 "nbformat": 4,
 "nbformat_minor": 2
}
