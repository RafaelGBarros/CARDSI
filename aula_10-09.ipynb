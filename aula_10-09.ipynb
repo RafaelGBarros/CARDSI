{
 "cells": [
  {
   "cell_type": "code",
   "execution_count": 1,
   "metadata": {},
   "outputs": [],
   "source": [
    "import pandas as pd\n"
   ]
  },
  {
   "cell_type": "code",
   "execution_count": 3,
   "metadata": {},
   "outputs": [
    {
     "name": "stdout",
     "output_type": "stream",
     "text": [
      "  loja  dia  valor\n",
      "0    A  sex   7500\n",
      "1    A  sab   9500\n",
      "2    A  dom   8200\n",
      "3    B  sex   5100\n",
      "4    A  sab   8250\n",
      "5    A  dom   9900\n",
      "6    B  sex   7500\n",
      "7    A  sab   1180\n"
     ]
    }
   ],
   "source": [
    "import pandas as pd\n",
    "\n",
    "lojaA = pd.DataFrame({\"loja\": [\"A\", \"A\", \"A\"],\n",
    "                      \"dia\": [\"sex\", \"sab\", \"dom\"],\n",
    "                      \"valor\": [7500, 9500, 8200]}\n",
    "                    )\n",
    "\n",
    "lojaB = pd.DataFrame({\"loja\": [\"B\", \"A\", \"A\"],\n",
    "                      \"dia\": [\"sex\", \"sab\", \"dom\"],\n",
    "                      \"valor\": [5100, 8250, 9900]}\n",
    "                    )\n",
    "\n",
    "lojaC = pd.DataFrame({\"loja\": [\"B\", \"A\"],\n",
    "                      \"dia\": [\"sex\", \"sab\"],\n",
    "                      \"valor\": [7500, 1180]}\n",
    "                    )\n",
    "\n",
    "\n",
    "lojaABC = pd.concat([lojaA, lojaB, lojaC], ignore_index=True)\n",
    "print(lojaABC)"
   ]
  },
  {
   "cell_type": "code",
   "execution_count": 4,
   "metadata": {},
   "outputs": [
    {
     "name": "stdout",
     "output_type": "stream",
     "text": [
      "     carro     animal\n",
      "0  Hyundai        NaN\n",
      "1  Renault        NaN\n",
      "2     Fiat        NaN\n",
      "3      NaN   Capivara\n",
      "4      NaN  Bem-te-vi\n"
     ]
    }
   ],
   "source": [
    "\n",
    "#(1)-Cria dois DataFrames com definição diferente\n",
    "d1 = pd.DataFrame({\"carro\":[\"Hyundai\", \"Renault\", \"Fiat\"]})\n",
    "d2 = pd.DataFrame({\"animal\":[\"Capivara\", \"Bem-te-vi\"]})\n",
    "#(2)-Concatena os DataFrames\n",
    "d3 = pd.concat([d1,d2], ignore_index=True, sort=False)\n",
    "print(d3)\n"
   ]
  },
  {
   "cell_type": "code",
   "execution_count": 5,
   "metadata": {},
   "outputs": [
    {
     "name": "stdout",
     "output_type": "stream",
     "text": [
      "------------------------------\n",
      "Alunos Distintos:\n",
      "                  email\n",
      "0        rakesh@xyz.com\n",
      "1    ecg@acmecorpus.com\n",
      "2           ana@xyz.com\n",
      "3  jonas@acmecorpus.com\n",
      "------------------------------\n",
      "Alunos cursaram SQL e Python:\n",
      "            email\n",
      "0  rakesh@xyz.com\n",
      "------------------------------\n",
      "Alunos cursaram apenas SQL:\n",
      "                email\n",
      "1  ecg@acmecorpus.com\n",
      "------------------------------\n",
      "Alunos cursaram apenas Python:\n",
      "                  email\n",
      "0           ana@xyz.com\n",
      "1  jonas@acmecorpus.com\n"
     ]
    }
   ],
   "source": [
    "df_sql = pd.DataFrame({\"email\":[\"rakesh@xyz.com\",\n",
    " \"ecg@acmecorpus.com\"]})\n",
    "df_python = pd.DataFrame({\"email\":[\"ana@xyz.com\",\n",
    " \"jonas@acmecorpus.com\",\n",
    "\"rakesh@xyz.com\"]})\n",
    "#(2)-Efetua as operações de conjunto\n",
    "#2.1 União (relação de alunos distintos)\n",
    "alunos = pd.concat([df_sql, df_python], ignore_index=True)\n",
    "alunos = alunos.drop_duplicates()\n",
    "#2.2 Interseção (quem fez ambos os cursos)\n",
    "sql_e_python = df_sql.merge(df_python)\n",
    "#2.3 Diferença (quem fez só SQL e quem fez só Python)\n",
    "so_sql = df_sql[df_sql.email.isin(df_python.email)==False]\n",
    "so_python = df_python[df_python.email.isin(df_sql.email)==False]\n",
    "#(3)-Imprime os resultados\n",
    "print('------------------------------')\n",
    "print('Alunos Distintos:')\n",
    "print(alunos)\n",
    "print('------------------------------')\n",
    "print('Alunos cursaram SQL e Python:')\n",
    "print(sql_e_python)\n",
    "print('------------------------------')\n",
    "print('Alunos cursaram apenas SQL:')\n",
    "print(so_sql)\n",
    "print('------------------------------')\n",
    "print('Alunos cursaram apenas Python:')\n",
    "print(so_python)"
   ]
  },
  {
   "cell_type": "code",
   "execution_count": 7,
   "metadata": {},
   "outputs": [],
   "source": [
    "flags = pd.read_csv('./dados/flags.csv')\n",
    "countries = pd.read_csv('./dados/countries.csv')\n",
    "\n",
    "num_linhas_flags = flags.shape[0]\n",
    "num_linhas_countries = countries.shape[0]\n",
    "\n",
    "# Junção interna: países comuns a ambas as bases\n",
    "ambas = pd.merge(flags, countries, how=\"inner\", left_on=\"name\", right_on=\"country\")\n",
    "num_linhas_ambas = ambas.shape[0]\n",
    "\n",
    "# Left Join: países apenas em flags\n",
    "so_flags = pd.merge(flags, countries, how=\"left\", left_on=\"name\", right_on=\"country\")\n",
    "so_flags = so_flags[pd.isnull(so_flags['country'])==True]\n",
    "num_linhas_so_flags = so_flags.shape[0]\n",
    "\n",
    "# Right Join: países apenas em countries\n",
    "so_countries = pd.merge(flags, countries, how=\"right\", left_on=\"name\", right_on=\"country\")\n",
    "so_countries = so_countries[pd.isnull(so_countries['name'])==True]\n",
    "num_linhas_so_countries = so_countries.shape[0]\n",
    "\n",
    "print(\"Numero de paises em 'flags': \", num_linhas_flags)\n",
    "print(\"Numero de paises em 'countries': \", num_linhas_countries)\n",
    "print(\"Numero de paises comuns a ambas as bases: \", num_linhas_ambas)\n",
    "print(\"Numero de paises apenas em 'flags': \", num_linhas_so_flags)\n",
    "print(\"Numero de paises apenas em 'countries': \", num_linhas_so_countries)\n"
   ]
  },
  {
   "cell_type": "code",
   "execution_count": 8,
   "metadata": {},
   "outputs": [],
   "source": [
    "flags = pd.read_csv('./dados/flags.csv')"
   ]
  },
  {
   "cell_type": "code",
   "execution_count": 14,
   "metadata": {},
   "outputs": [
    {
     "name": "stdout",
     "output_type": "stream",
     "text": [
      "                name  landmass  population\n",
      "0     American-Samoa         6           0\n",
      "1          Australia         6          15\n",
      "2       Cook-Islands         6           0\n",
      "3               Fiji         6           1\n",
      "4   French-Polynesia         6           0\n",
      "5               Guam         6           0\n",
      "6          Indonesia         6         157\n",
      "7           Kiribati         6           0\n",
      "8           Marianas         6           0\n",
      "9         Micronesia         6           0\n",
      "10             Nauru         6           0\n",
      "11       New-Zealand         6           2\n",
      "12              Niue         6           0\n",
      "13  Papua-New-Guinea         6           3\n",
      "14       Philippines         6          48\n",
      "15   Soloman-Islands         6           0\n",
      "16             Tonga         6           0\n",
      "17            Tuvalu         6           0\n",
      "18           Vanuatu         6           0\n",
      "19     Western-Samoa         6           0\n"
     ]
    }
   ],
   "source": [
    "v = (flags['landmass']==6)\n",
    "df = flags[v]\n",
    "\n",
    "df = df[['name', 'landmass', 'population']]\n",
    "df.reset_index(drop=True, inplace=True)\n",
    "print(df)"
   ]
  }
 ],
 "metadata": {
  "kernelspec": {
   "display_name": "Python 3",
   "language": "python",
   "name": "python3"
  },
  "language_info": {
   "codemirror_mode": {
    "name": "ipython",
    "version": 3
   },
   "file_extension": ".py",
   "mimetype": "text/x-python",
   "name": "python",
   "nbconvert_exporter": "python",
   "pygments_lexer": "ipython3",
   "version": "3.12.8"
  }
 },
 "nbformat": 4,
 "nbformat_minor": 2
}
