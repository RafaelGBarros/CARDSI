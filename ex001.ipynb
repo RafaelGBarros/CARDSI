{
 "cells": [
  {
   "cell_type": "code",
   "execution_count": 44,
   "id": "65d1b7a8",
   "metadata": {},
   "outputs": [],
   "source": [
    "import pandas as pd\n",
    "import matplotlib.pyplot as plt"
   ]
  },
  {
   "cell_type": "code",
   "execution_count": null,
   "id": "ec184167",
   "metadata": {},
   "outputs": [],
   "source": [
    "#DESCIRCAO GERAL DA ATIVIDADE PROPOSTA:\n",
    "\n",
    "\n",
    "#para cada um dos custos, calcular:\n",
    "    #Media\n",
    "    #Mediana\n",
    "    #Moda\n",
    "    #Desvio\n",
    "#Fazer uma comparacao entre os custos\n",
    "#Fazer um boxplot\n",
    "#Link do Noteboof (repositorio no github)"
   ]
  },
  {
   "cell_type": "code",
   "execution_count": 29,
   "id": "a6049f20",
   "metadata": {},
   "outputs": [],
   "source": [
    "df = pd.read_csv('./dados/plano_saude.csv')"
   ]
  },
  {
   "cell_type": "code",
   "execution_count": 57,
   "id": "282aa7e3",
   "metadata": {},
   "outputs": [
    {
     "name": "stdout",
     "output_type": "stream",
     "text": [
      "media 1: 1946.7, Mediana 1: 1563.0, Moda 1: 0     871\n",
      "1    1132\n",
      "2    1242\n",
      "3    1356\n",
      "4    1488\n",
      "5    1638\n",
      "6    2130\n",
      "7    2454\n",
      "8    3066\n",
      "9    4090\n",
      "Name: custo1, dtype: int64, Desvio 1: 1006\n",
      "media 2: 1776.0, Mediana 2: 1405.0, Moda 2: 0     760\n",
      "1     980\n",
      "2    1110\n",
      "3    1230\n",
      "4    1340\n",
      "5    1470\n",
      "6    1800\n",
      "7    2200\n",
      "8    2890\n",
      "9    3980\n",
      "Name: custo2, dtype: int64, Desvio 2: 998\n"
     ]
    }
   ],
   "source": [
    "#para cada um dos custos, calcular:\n",
    "    #Media\n",
    "    #Mediana\n",
    "    #Moda\n",
    "    #Desvio\n",
    "\n",
    "resultado1 = []\n",
    "resultado2 = []\n",
    "\n",
    "resultado1.append(df.custo1.mean())\n",
    "resultado1.append(df.custo1.median())\n",
    "resultado1.append(df.custo1.mode())\n",
    "resultado1.append(df.custo1.std())\n",
    "\n",
    "resultado2.append(df.custo2.mean())\n",
    "resultado2.append(df.custo2.median())\n",
    "resultado2.append(df.custo2.mode())\n",
    "resultado2.append(df.custo2.std())\n",
    "\n",
    "print(f'media 1: {resultado1[0]}, Mediana 1: {resultado1[1]}, Moda 1: {resultado1[2]}, Desvio 1: {round(resultado1[3])}')\n",
    "print(f'media 2: {resultado2[0]}, Mediana 2: {resultado2[1]}, Moda 2: {resultado2[2]}, Desvio 2: {round(resultado2[3])}')\n"
   ]
  },
  {
   "cell_type": "code",
   "execution_count": null,
   "id": "c6c2119c",
   "metadata": {},
   "outputs": [
    {
     "name": "stderr",
     "output_type": "stream",
     "text": [
      "C:\\Users\\Rafael Barros\\AppData\\Local\\Temp\\ipykernel_7812\\3783916917.py:8: MatplotlibDeprecationWarning: The 'labels' parameter of boxplot() has been renamed 'tick_labels' since Matplotlib 3.9; support for the old name will be dropped in 3.11.\n",
      "  plt.boxplot([df.custo1, df.custo2], labels=['Custo 1', 'Custo 2'])\n"
     ]
    },
    {
     "data": {
      "image/png": "[encoded data removed]",
      "text/plain": [
       "<Figure size 640x480 with 1 Axes>"
      ]
     },
     "metadata": {},
     "output_type": "display_data"
    }
   ],
   "source": [
    "#Fazer uma comparacao entre os custos\n",
    "#Fazer um boxplot\n",
    "\n",
    "#DF com comparacao entre os custos tentdo como base o custo1\n",
    "df['diferenca'] = df.custo2 - df.custo1\n",
    "#df.head()\n",
    "\n",
    "\n",
    "#Boxplot dos custos\n",
    "plt.boxplot([df.custo1, df.custo2], labels=['Custo 1', 'Custo 2'])\n",
    "plt.show()"
   ]
  }
 ],
 "metadata": {
  "kernelspec": {
   "display_name": "base",
   "language": "python",
   "name": "python3"
  },
  "language_info": {
   "codemirror_mode": {
    "name": "ipython",
    "version": 3
   },
   "file_extension": ".py",
   "mimetype": "text/x-python",
   "name": "python",
   "nbconvert_exporter": "python",
   "pygments_lexer": "ipython3",
   "version": "3.12.4"
  }
 },
 "nbformat": 4,
 "nbformat_minor": 5
}
